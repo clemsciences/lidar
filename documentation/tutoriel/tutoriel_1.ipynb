{
 "cells": [
  {
   "cell_type": "markdown",
   "metadata": {
    "collapsed": true
   },
   "source": [
    "# Utiliser un LIDAR à INTech"
   ]
  },
  {
   "cell_type": "markdown",
   "metadata": {},
   "source": [
    "## Analyse du main.py (1er septembre 2018)"
   ]
  },
  {
   "cell_type": "markdown",
   "metadata": {},
   "source": [
    "### Les imports\n",
    "\n",
    "On peut séparer les modules importés en 2 catégories : les modules de la bibliothèque standard (les modules apportés quand on installe Python) et les modules que l'on crée soi-même.\n"
   ]
  },
  {
   "cell_type": "markdown",
   "metadata": {},
   "source": [
    "Il faut d'abord installer **pyserial** avec :\n",
    "\n",
    "```python3\n",
    "pip install pyserial\n",
    "```"
   ]
  },
  {
   "cell_type": "markdown",
   "metadata": {},
   "source": [
    "On se place à la racine du paquet."
   ]
  },
  {
   "cell_type": "code",
   "execution_count": 1,
   "metadata": {},
   "outputs": [],
   "source": [
    "import os\n",
    "os.chdir(\"../..\")"
   ]
  },
  {
   "cell_type": "markdown",
   "metadata": {},
   "source": [
    "De quoi créer un dossier et de vérifier si un fichier est un dossier (il faut se rappeler que tout est fichier dans une arborescence de stockage)."
   ]
  },
  {
   "cell_type": "code",
   "execution_count": 2,
   "metadata": {},
   "outputs": [],
   "source": [
    "from os import mkdir\n",
    "from os.path import isdir"
   ]
  },
  {
   "cell_type": "markdown",
   "metadata": {},
   "source": [
    "Récupération des paramètres définis dans un fichier en .ini"
   ]
  },
  {
   "cell_type": "code",
   "execution_count": 3,
   "metadata": {},
   "outputs": [],
   "source": [
    "import logging.config\n",
    "\n",
    "if not isdir(\"./Logs/\"):\n",
    "    mkdir(\"./Logs/\")\n",
    "\n",
    "\n",
    "logging.config.fileConfig('./configs/config_log.ini')\n",
    "_loggerPpl = logging.getLogger(\"ppl\")\n",
    "_loggerHl = logging.getLogger(\"hl\")"
   ]
  },
  {
   "cell_type": "markdown",
   "metadata": {},
   "source": [
    "Ecriture dans un fichier CSV (*comma separated values*)"
   ]
  },
  {
   "cell_type": "code",
   "execution_count": 4,
   "metadata": {},
   "outputs": [
    {
     "data": {
      "text/plain": [
       "6"
      ]
     },
     "execution_count": 4,
     "metadata": {},
     "output_type": "execute_result"
    }
   ],
   "source": [
    "from csv import writer\n",
    "data_file = open(\"Logs/RawData.logs\", \"a\")\n",
    "data_writer = writer(data_file, delimiter=\" \")\n",
    "data_writer.writerow([\"#NEW\"])"
   ]
  },
  {
   "cell_type": "markdown",
   "metadata": {},
   "source": [
    "*sleep* permet de faire une pause dans un *thread* (ou fil, c'est un moyen de lancer plusieurs opérations en parallèle) et *time* permet de récupérer le nombre de secondes écoulées depuis le 1er janvier 1970."
   ]
  },
  {
   "cell_type": "code",
   "execution_count": 5,
   "metadata": {},
   "outputs": [],
   "source": [
    "from time import sleep, time"
   ]
  },
  {
   "cell_type": "markdown",
   "metadata": {},
   "source": [
    "Gestion de la connexion au code de haut-niveau du robot principal."
   ]
  },
  {
   "cell_type": "code",
   "execution_count": 6,
   "metadata": {},
   "outputs": [],
   "source": [
    "from src.HL_connection import hl_connected\n",
    "from src.HL_connection import hl_socket\n",
    "from src.HL_connection import stop_com_hl"
   ]
  },
  {
   "cell_type": "markdown",
   "metadata": {},
   "source": [
    "*ThreadData* est une classe qui hérite de *Thread*. Elle gère la récupération des données provenant du LIDAR."
   ]
  },
  {
   "cell_type": "code",
   "execution_count": 7,
   "metadata": {},
   "outputs": [],
   "source": [
    "from src.ThreadData import ThreadData"
   ]
  },
  {
   "cell_type": "markdown",
   "metadata": {},
   "source": [
    "Usage intensif de **matplotlib** pour afficher les mesures."
   ]
  },
  {
   "cell_type": "code",
   "execution_count": 8,
   "metadata": {},
   "outputs": [],
   "source": [
    "from src.affichage import afficher_en_polaire, affichage, affichage_cartesien, affichage_polaire, \\\n",
    "    init_affichage_cartesien, init_affichage_polaire"
   ]
  },
  {
   "cell_type": "markdown",
   "metadata": {},
   "source": [
    "*mesures* : fonction principale qui récupére et traite les données reçues par le LIDAR. Par exemple, c'est là où on définit les obstacles."
   ]
  },
  {
   "cell_type": "code",
   "execution_count": 9,
   "metadata": {},
   "outputs": [],
   "source": [
    "from src.mesures import mesures"
   ]
  },
  {
   "cell_type": "markdown",
   "metadata": {},
   "source": [
    "Initialisation de variables globales au projet."
   ]
  },
  {
   "cell_type": "code",
   "execution_count": 10,
   "metadata": {},
   "outputs": [],
   "source": [
    "socket = None\n",
    "thread_data = None\n",
    "ax = None\n",
    "fig = None\n",
    "envoi = None"
   ]
  },
  {
   "cell_type": "markdown",
   "metadata": {},
   "source": [
    "Si le LIDAR est branché, vous pouvez essayer de'éxecuter ce code. Sinon... ça marchera pas !"
   ]
  },
  {
   "cell_type": "code",
   "execution_count": null,
   "metadata": {},
   "outputs": [],
   "source": [
    "try:\n",
    "    # Liste des positions des anciens obstacles\n",
    "    list_obstacles_precedente = []\n",
    "\n",
    "    # Creation de socket pour communiquer avec le HL\n",
    "    if hl_connected:\n",
    "        socket = hl_socket()\n",
    "\n",
    "    # Demarre le Thread recevant les donnees\n",
    "    thread_data = ThreadData()\n",
    "    thread_data.start()\n",
    "\n",
    "    # Attente de quelques tours pour que le lidar prenne sa pleine vitesse et envoie assez de points\n",
    "    sleep(1)\n",
    "\n",
    "    # Initialisation de l'affichage\n",
    "    if not hl_connected and affichage:\n",
    "        print(\"Affichage init\")\n",
    "        if afficher_en_polaire:\n",
    "            ax, fig = init_affichage_polaire()\n",
    "        else:\n",
    "            ax, fig = init_affichage_cartesien()\n",
    "\n",
    "    # Initialisation des valeurs pour le calcul du temps d'exécution\n",
    "    t = time()\n",
    "    te = t\n",
    "\n",
    "    # Boucle de récupération,de traitement des données, d'envoi et d'affichage\n",
    "    while True:\n",
    "        # Aucun interet à spammer, on a moins de chance de bloquer l'execution du thread temporairement\n",
    "\n",
    "        # Calcul du temps d'exécution : aussi utilisé pour le Kalman\n",
    "        te = (time() - t)\n",
    "        t = time()\n",
    "        # On récupère les données du scan du LiDAR et on fait les traitements\n",
    "        dico, limits, list_obstacles, list_obstacles_precedente = mesures(te, list_obstacles_precedente, thread_data)\n",
    "        # Envoi de la position du centre de l'obstacle détécté pour traitement par le pathfinding\n",
    "\n",
    "        liste_envoyee = []\n",
    "        for o in list_obstacles:\n",
    "            angle = o.center\n",
    "            r = dico[angle]\n",
    "            liste_envoyee.append(str((r, angle)))\n",
    "            envoi = \";\".join(liste_envoyee)\n",
    "            envoi = envoi + \"\\n\"\n",
    "        _loggerHl.debug(\"envoi au hl: %s.\", envoi)\n",
    "        data_writer.writerow(dico.values())\n",
    "        if hl_connected:\n",
    "            socket.send(envoi.encode('ascii'))\n",
    "        thread_data.lidar.clean_input()\n",
    "        # Affichage des obstacles, de la position Kalman, et des points détectés dans chaque obstacle\n",
    "        if affichage:\n",
    "            if afficher_en_polaire:\n",
    "                affichage_polaire(limits, ax, list_obstacles, dico, fig)\n",
    "            else:\n",
    "                affichage_cartesien(limits, ax, list_obstacles, dico, fig)\n",
    "\n",
    "except KeyboardInterrupt:\n",
    "    # Arrêt du système\n",
    "    if hl_connected and socket:\n",
    "        stop_com_hl(socket)\n",
    "    _loggerPpl.info(\"ARRET DEMANDE.\")\n",
    "    if thread_data:\n",
    "        thread_data.stop_lidar()\n",
    "        thread_data.join()\n",
    "        thread_data = None\n",
    "\n",
    "finally:\n",
    "    # Arrêt du système\n",
    "    if hl_connected and socket:\n",
    "        stop_com_hl(socket)\n",
    "    if thread_data:\n",
    "        thread_data.stop_lidar()\n",
    "        thread_data.join()\n",
    "        thread_data = None\n",
    "    data_file.close()"
   ]
  }
 ],
 "metadata": {
  "anaconda-cloud": {},
  "kernelspec": {
   "display_name": "Python [conda env:Anaconda3]",
   "language": "python",
   "name": "conda-env-Anaconda3-py"
  },
  "language_info": {
   "codemirror_mode": {
    "name": "ipython",
    "version": 3
   },
   "file_extension": ".py",
   "mimetype": "text/x-python",
   "name": "python",
   "nbconvert_exporter": "python",
   "pygments_lexer": "ipython3",
   "version": "3.6.5"
  }
 },
 "nbformat": 4,
 "nbformat_minor": 1
}
