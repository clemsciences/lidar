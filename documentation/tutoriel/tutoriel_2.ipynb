{
 "cells": [
  {
   "cell_type": "markdown",
   "metadata": {
    "collapsed": true
   },
   "source": [
    "# Le filtrage de Kalman par l'exemple !"
   ]
  },
  {
   "cell_type": "markdown",
   "metadata": {},
   "source": [
    "Pour expliquer le filtrage de Kalman, on va partir de ce que le LIDAR produit comme données et on va aller jusqu'au code du filtrage de Kalman.\n",
    "\n",
    "Pour une présentation théorique, un cours spécial pour INTech a été écrit : [Cours_filtrage_de_kalman](https://club-intech.minet.net/images/e/e6/Cours_filtrage_de_kalman.pdf)."
   ]
  },
  {
   "cell_type": "markdown",
   "metadata": {},
   "source": [
    "## Principe du LIDAR "
   ]
  },
  {
   "cell_type": "code",
   "execution_count": null,
   "metadata": {},
   "outputs": [],
   "source": []
  },
  {
   "cell_type": "code",
   "execution_count": null,
   "metadata": {},
   "outputs": [],
   "source": []
  },
  {
   "cell_type": "markdown",
   "metadata": {},
   "source": [
    "## Principe du filtrage de Kalman"
   ]
  },
  {
   "cell_type": "code",
   "execution_count": null,
   "metadata": {},
   "outputs": [],
   "source": []
  },
  {
   "cell_type": "code",
   "execution_count": null,
   "metadata": {},
   "outputs": [],
   "source": []
  },
  {
   "cell_type": "markdown",
   "metadata": {},
   "source": [
    "## Le code du filtrage de Kalman"
   ]
  },
  {
   "cell_type": "code",
   "execution_count": 4,
   "metadata": {},
   "outputs": [],
   "source": [
    "import os\n",
    "os.chdir(\"../..\")"
   ]
  },
  {
   "cell_type": "markdown",
   "metadata": {},
   "source": [
    "La boîte à outils mathématiques"
   ]
  },
  {
   "cell_type": "code",
   "execution_count": 2,
   "metadata": {},
   "outputs": [],
   "source": [
    "from numpy import array, eye, set_printoptions\n",
    "from math import cos, sin\n",
    "from numpy.linalg import inv"
   ]
  },
  {
   "cell_type": "markdown",
   "metadata": {},
   "source": [
    "Récupération des paramètres du filtre de Kalman codé."
   ]
  },
  {
   "cell_type": "code",
   "execution_count": 5,
   "metadata": {},
   "outputs": [],
   "source": [
    "import configparser\n",
    "set_printoptions(suppress=True)\n",
    "\n",
    "config = configparser.ConfigParser()\n",
    "config.read('./configs/config.ini', encoding=\"utf-8\")\n",
    "tolerance_predicted_fixe_r = int(config['OBSTACLES FIXES OU MOBILES']['tolerance_predicted_fixe_r'])\n",
    "tolerance_predicted_fixe_theta = int(config['OBSTACLES FIXES OU MOBILES']['tolerance_predicted_fixe_theta'])\n",
    "tolerance_predicted_fixe = [tolerance_predicted_fixe_r, tolerance_predicted_fixe_theta]\n",
    "tolerance_kalman_r = int(config['OBSTACLES FIXES OU MOBILES']['tolerance_kalman_r'])\n",
    "tolerance_kalman_theta = int(config['OBSTACLES FIXES OU MOBILES']['tolerance_kalman_theta'])\n",
    "tolerance_kalman = [tolerance_kalman_r, tolerance_kalman_theta]\n",
    "# Données utiles au filtrage kalman\n",
    "sigma_q = float(config['KALMAN']['sigma_q'])  # Ecart type du modèle, on peut à priori le garder à 1\n",
    "sigma_angle = float(config['KALMAN']['sigma_angle'])  # Ecart type sur la mesure de l'angle\n",
    "sigma_distance = float(config['KALMAN']['sigma_distance'])  # Ecart type sur la mesure de la distance\n",
    "facteur_temps = float(config['KALMAN']['facteur_temps'])  # Ecart type sur la mesure de la distance\n"
   ]
  },
  {
   "cell_type": "code",
   "execution_count": null,
   "metadata": {},
   "outputs": [],
   "source": [
    "def extended_kalman_filter(period, y_k, x_kalm_prec, p_kalm_prec):\n",
    "    \"\"\"\n",
    "    Extended Kalman Filter:\n",
    "    Applique le filtre de kalman étendu, fournissant la position estimée x_k|k,\n",
    "    à partir de la mesure y_k et la position estimée précédente x_k-1|k-1\n",
    "    Met aussi à jours la matrice de covariances estimée\n",
    "    :param period: Temps écoulé depuis la dernière mesure\n",
    "    :param y_k: Le vecteur des mesures, sous la forme numpy.array([angle,distance])\n",
    "    :param x_kalm_prec: Le vecteur position estimée précédent x_k-1|k-1,\n",
    "    sous la forme numpy.array([x,vitesse_x,y,vitesse_y])\n",
    "    :param p_kalm_prec: La matrice de covariance précédente p_k-1|k-1, sous la forme d'un array numpy de taille 4x4,\n",
    "    initialement c'est la matrice identité (numpy.eye(4)) ou nulle (numpy.zeros(4))\n",
    "    :return: x_kalm, p_kalm: Le couple du vecteur position estimé et la matrice de covariance estimée (x_k|k , p_k|k)\n",
    "    \"\"\"\n",
    "\n",
    "    period = facteur_temps * period\n",
    "\n",
    "    f = array([[1, period, 0, 0],\n",
    "               [0, 1, 0, 0],\n",
    "               [0, 0, 1, period],\n",
    "               [0, 0, 0, 1]])\n",
    "\n",
    "    q = sigma_q * array([[(period ** 3) / 3, (period ** 2) / 2, 0, 0],\n",
    "                         [(period ** 2) / 2, period, 0, 0],\n",
    "                         [0, 0, (period ** 3) / 3, (period ** 2) / 2],\n",
    "                         [0, 0, (period ** 2) / 2, period]])\n",
    "\n",
    "    r = array([[sigma_angle ** 2, 0],\n",
    "               [0, sigma_distance ** 2]])\n",
    "\n",
    "    h = array([[1, 0, 0, 0], [0, 0, 1, 0]])\n",
    "\n",
    "    y_k = array([y_k[1]*cos(y_k[0]), y_k[1]*sin(y_k[0])])\n",
    "\n",
    "    # prediction: passage de x_k|k, p_k|k à x_k+1|k, p_k+1|k\n",
    "    x_predit = f.dot(x_kalm_prec)  # Etat prédit\n",
    "    p_predit = f.dot(p_kalm_prec).dot(f.T) + q  # Estimation prédite de la covariance\n",
    "\n",
    "    # mise à jour: passage de x_k+1|k, p_k+1|k à x_k+1|k+1, p_k+1|k+1\n",
    "    k = p_predit.dot(h.T).dot(inv(h.dot(p_predit).dot(h.T) + r))  # Gain de Kalman optimal\n",
    "    x_kalm = x_predit + k.dot(y_k - h.dot(x_predit))  # Etat mis à jour\n",
    "    p_kalm = (eye(4) - k.dot(h)).dot(p_predit)  # Mise à jour de la covariance\n",
    "\n",
    "    return x_kalm, p_kalm\n"
   ]
  },
  {
   "cell_type": "code",
   "execution_count": 22,
   "metadata": {},
   "outputs": [
    {
     "data": {
      "text/latex": [
       "\n",
       "\\begin{align}\n",
       "F = \\begin{pmatrix} 1 & T & 0 & 0 \\\\ 0 & 1 & 0 & 0 \\\\ 0 & 0 & 1 & T \\\\ 0 & 0 & 0 & 1 \\end{pmatrix}\n",
       "\\end{align}"
      ],
      "text/plain": [
       "<IPython.core.display.Latex object>"
      ]
     },
     "metadata": {},
     "output_type": "display_data"
    }
   ],
   "source": [
    "%%latex\n",
    "\n",
    "\\begin{align}\n",
    "F = \\begin{pmatrix} 1 & T & 0 & 0 \\\\ 0 & 1 & 0 & 0 \\\\ 0 & 0 & 1 & T \\\\ 0 & 0 & 0 & 1 \\end{pmatrix}\n",
    "\\end{align}\n"
   ]
  },
  {
   "cell_type": "code",
   "execution_count": 47,
   "metadata": {},
   "outputs": [
    {
     "data": {
      "text/latex": [
       "Matrice d'évolution\n",
       "\\begin{align}\n",
       "Q = \\sigma_Q  * \\begin{pmatrix} \\frac{T^3}{3} & \\frac{T^2}{2} & 0 & 0 \\\\ \\frac{T^2}{2} & T & 0 & 0 \\\\ 0 & 0 & \\frac{T^3}{3} & \\frac{T^2}{2} \\\\ 0 &0 & \\frac{T^2}{2} & T \\end{pmatrix}\n",
       "\\end{align}"
      ],
      "text/plain": [
       "<IPython.core.display.Latex object>"
      ]
     },
     "metadata": {},
     "output_type": "display_data"
    }
   ],
   "source": [
    "%%latex\n",
    "Matrice d'évolution\n",
    "\\begin{align}\n",
    "Q = \\sigma_Q  * \\begin{pmatrix} \\frac{T^3}{3} & \\frac{T^2}{2} & 0 & 0 \\\\ \\frac{T^2}{2} & T & 0 & 0 \\\\ 0 & 0 & \\frac{T^3}{3} & \\frac{T^2}{2} \\\\ 0 &0 & \\frac{T^2}{2} & T \\end{pmatrix}\n",
    "\\end{align}"
   ]
  },
  {
   "cell_type": "code",
   "execution_count": 37,
   "metadata": {},
   "outputs": [
    {
     "data": {
      "text/latex": [
       "Matrice de covariance de la mesure\n",
       "\\begin{align}\n",
       "R = \\begin{pmatrix} \\sigma_{\\theta}^2 & 0 \\\\ 0 & \\sigma_{\\rho} \\end{pmatrix}\n",
       "\\end{align}"
      ],
      "text/plain": [
       "<IPython.core.display.Latex object>"
      ]
     },
     "metadata": {},
     "output_type": "display_data"
    }
   ],
   "source": [
    "%%latex\n",
    "Matrice de covariance de la mesure\n",
    "\\begin{align}\n",
    "R = \\begin{pmatrix} \\sigma_{\\theta}^2 & 0 \\\\ 0 & \\sigma_{\\rho} \\end{pmatrix}\n",
    "\\end{align}"
   ]
  },
  {
   "cell_type": "code",
   "execution_count": 38,
   "metadata": {},
   "outputs": [
    {
     "data": {
      "text/latex": [
       "Matrice d'observation\n",
       "\\begin{align}\n",
       "H = \\begin{pmatrix} 1 & 0 & 0 & 0 \\\\ 0 & 0 & 1 & 0 \\end{pmatrix}\n",
       "\\end{align}"
      ],
      "text/plain": [
       "<IPython.core.display.Latex object>"
      ]
     },
     "metadata": {},
     "output_type": "display_data"
    }
   ],
   "source": [
    "%%latex\n",
    "Matrice d'observation\n",
    "\\begin{align}\n",
    "H = \\begin{pmatrix} 1 & 0 & 0 & 0 \\\\ 0 & 0 & 1 & 0 \\end{pmatrix}\n",
    "\\end{align}"
   ]
  },
  {
   "cell_type": "code",
   "execution_count": 40,
   "metadata": {},
   "outputs": [
    {
     "data": {
      "text/latex": [
       "Conversion entre la mesure et l'état réel\n",
       "\\begin{align}\n",
       "y_k = \\begin{pmatrix} \\rho_{k}*cos(\\theta_{k}) \\\\ \\rho_{k}*sin(\\theta_{k}))\\end{pmatrix}\n",
       "\\end{align}"
      ],
      "text/plain": [
       "<IPython.core.display.Latex object>"
      ]
     },
     "metadata": {},
     "output_type": "display_data"
    }
   ],
   "source": [
    "%%latex\n",
    "Conversion entre la mesure et l'état réel\n",
    "\\begin{align}\n",
    "y_k = \\begin{pmatrix} \\rho_{k}*cos(\\theta_{k}) \\\\ \\rho_{k}*sin(\\theta_{k}))\\end{pmatrix}\n",
    "\\end{align}"
   ]
  },
  {
   "cell_type": "code",
   "execution_count": 45,
   "metadata": {},
   "outputs": [
    {
     "data": {
      "text/latex": [
       "Etat prédit\n",
       "\\begin{align}\n",
       "x_{k+1|k} = F * x_{k}\n",
       "\\end{align}"
      ],
      "text/plain": [
       "<IPython.core.display.Latex object>"
      ]
     },
     "metadata": {},
     "output_type": "display_data"
    }
   ],
   "source": [
    "%%latex \n",
    "Etat prédit\n",
    "\\begin{align}\n",
    "x_{k+1|k} = F * x_{k}\n",
    "\\end{align}"
   ]
  },
  {
   "cell_type": "code",
   "execution_count": 44,
   "metadata": {},
   "outputs": [
    {
     "data": {
      "text/latex": [
       "Matrice de covariance de l'état prédit\n",
       "\\begin{align}\n",
       "P_{k+1|k} = F * P_{k} * F^T + Q\n",
       "\\end{align}"
      ],
      "text/plain": [
       "<IPython.core.display.Latex object>"
      ]
     },
     "metadata": {},
     "output_type": "display_data"
    }
   ],
   "source": [
    "%%latex\n",
    "Matrice de covariance de l'état prédit\n",
    "\\begin{align}\n",
    "P_{k+1|k} = F * P_{k} * F^T + Q\n",
    "\\end{align}"
   ]
  },
  {
   "cell_type": "code",
   "execution_count": 33,
   "metadata": {},
   "outputs": [
    {
     "data": {
      "text/latex": [
       "\\begin{align}\n",
       "K = P_{k+1|k} * H^T * ((H * P_{k+1|k} * H^T)^{-1} +R)\n",
       "\\end{align}"
      ],
      "text/plain": [
       "<IPython.core.display.Latex object>"
      ]
     },
     "metadata": {},
     "output_type": "display_data"
    }
   ],
   "source": [
    "%%latex\n",
    "\\begin{align}\n",
    "K = P_{k+1|k} * H^T * ((H * P_{k+1|k} * H^T)^{-1} +R)\n",
    "\\end{align}\n"
   ]
  },
  {
   "cell_type": "code",
   "execution_count": 42,
   "metadata": {},
   "outputs": [
    {
     "data": {
      "text/latex": [
       "Etat suivant estimé\n",
       "\\begin{align}\n",
       "x_{k+1|k+1} = x_{k+1|k} + K * (y_{k+1} - H * x_{k+1|k})\n",
       "\\end{align}"
      ],
      "text/plain": [
       "<IPython.core.display.Latex object>"
      ]
     },
     "metadata": {},
     "output_type": "display_data"
    }
   ],
   "source": [
    "%%latex\n",
    "Etat suivant estimé\n",
    "\\begin{align}\n",
    "x_{k+1|k+1} = x_{k+1|k} + K * (y_{k+1} - H * x_{k+1|k})\n",
    "\\end{align}"
   ]
  },
  {
   "cell_type": "code",
   "execution_count": 43,
   "metadata": {},
   "outputs": [
    {
     "data": {
      "text/latex": [
       "Matrice de covariance de l'état estimé\n",
       "\\begin{align}\n",
       "P_{k+1|k+1} = (I_4 - K * H) * P_{k+1|k}\n",
       "\\end{align}"
      ],
      "text/plain": [
       "<IPython.core.display.Latex object>"
      ]
     },
     "metadata": {},
     "output_type": "display_data"
    }
   ],
   "source": [
    "%%latex\n",
    "Matrice de covariance de l'état estimé\n",
    "\\begin{align}\n",
    "P_{k+1|k+1} = (I_4 - K * H) * P_{k+1|k}\n",
    "\\end{align}"
   ]
  },
  {
   "cell_type": "code",
   "execution_count": null,
   "metadata": {},
   "outputs": [],
   "source": []
  },
  {
   "cell_type": "code",
   "execution_count": null,
   "metadata": {},
   "outputs": [],
   "source": []
  },
  {
   "cell_type": "code",
   "execution_count": null,
   "metadata": {},
   "outputs": [],
   "source": []
  },
  {
   "cell_type": "markdown",
   "metadata": {},
   "source": [
    "Le filtre de Kalman étant utilisé exclusivement dans le module src/**liaisons_objets**, nous l'étudierons en détail, lui aussi.\n",
    "\n",
    "Le but ? Créer la liste des obstacles"
   ]
  },
  {
   "cell_type": "markdown",
   "metadata": {},
   "source": [
    "On a quoi comme données ?\n",
    "\n",
    "* les mesures : fonction qui a un angle donne la liste des distances associées\n",
    "* les limites d'un obstacle qui sont l'angle du début de l'obstacle (*beginning_angle*), l'angle de fin de l'obstacle (*end_angle*)  et "
   ]
  },
  {
   "cell_type": "code",
   "execution_count": null,
   "metadata": {},
   "outputs": [],
   "source": []
  },
  {
   "cell_type": "code",
   "execution_count": null,
   "metadata": {},
   "outputs": [],
   "source": []
  },
  {
   "cell_type": "code",
   "execution_count": null,
   "metadata": {},
   "outputs": [],
   "source": []
  },
  {
   "cell_type": "code",
   "execution_count": null,
   "metadata": {},
   "outputs": [],
   "source": []
  }
 ],
 "metadata": {
  "anaconda-cloud": {},
  "kernelspec": {
   "display_name": "Python [conda env:Anaconda3]",
   "language": "python",
   "name": "conda-env-Anaconda3-py"
  },
  "language_info": {
   "codemirror_mode": {
    "name": "ipython",
    "version": 3
   },
   "file_extension": ".py",
   "mimetype": "text/x-python",
   "name": "python",
   "nbconvert_exporter": "python",
   "pygments_lexer": "ipython3",
   "version": "3.6.5"
  }
 },
 "nbformat": 4,
 "nbformat_minor": 1
}
